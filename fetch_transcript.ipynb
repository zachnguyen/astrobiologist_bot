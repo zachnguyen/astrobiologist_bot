{
 "cells": [
  {
   "cell_type": "code",
   "execution_count": 4,
   "metadata": {},
   "outputs": [],
   "source": [
    "#!pip install google-api-python-client youtube-transcript-api"
   ]
  },
  {
   "cell_type": "code",
   "execution_count": 1,
   "metadata": {},
   "outputs": [],
   "source": [
    "import os, json, sys\n",
    "from googleapiclient.discovery import build\n",
    "from youtube_transcript_api import YouTubeTranscriptApi\n",
    "from dotenv import load_dotenv\n",
    "import requests"
   ]
  },
  {
   "cell_type": "code",
   "execution_count": 2,
   "metadata": {},
   "outputs": [],
   "source": [
    "load_dotenv()\n",
    "API_KEY = os.getenv(\"YTB_API_KEY\")\n",
    "urls_file = \"url.txt\""
   ]
  },
  {
   "cell_type": "code",
   "execution_count": 3,
   "metadata": {},
   "outputs": [],
   "source": [
    "def fetch_video_details(video_id):\n",
    "    api_url = f\"https://www.googleapis.com/youtube/v3/videos?id={video_id}&part=snippet&key={API_KEY}\"\n",
    "    response = requests.get(api_url)\n",
    "    data = response.json()\n",
    "    video_title = data[\"items\"][0][\"snippet\"][\"title\"]\n",
    "    published_dt = data[\"items\"][0][\"snippet\"][\"publishedAt\"]\n",
    "    host = data[\"items\"][0][\"snippet\"]['channelTitle']\n",
    "    return video_title, published_dt, host"
   ]
  },
  {
   "cell_type": "code",
   "execution_count": 4,
   "metadata": {},
   "outputs": [],
   "source": [
    "def fetch_transcript(video_id):\n",
    "    try:\n",
    "        # Fetch the transcript\n",
    "        transcript_list = YouTubeTranscriptApi.get_transcript(video_id, languages=['en'])\n",
    "        \n",
    "        # Combine transcript text without timestamps\n",
    "        transcript_text = ' '.join([entry['text'] for entry in transcript_list])\n",
    "        \n",
    "        return transcript_text\n",
    "    except Exception as e:\n",
    "        return str(e)"
   ]
  },
  {
   "cell_type": "code",
   "execution_count": 5,
   "metadata": {},
   "outputs": [],
   "source": [
    "def save_metadata(metadata, filename):\n",
    "    with open(filename, 'w') as json_file:\n",
    "        json.dump(metadata, json_file, indent=4)\n",
    "\n",
    "def save_transcript(transcript, filename):\n",
    "    with open(filename, 'w') as md_file:\n",
    "        md_file.write(transcript)"
   ]
  },
  {
   "cell_type": "code",
   "execution_count": 6,
   "metadata": {},
   "outputs": [],
   "source": [
    "with open(urls_file, 'r') as file:\n",
    "    youtube_urls = [line.strip() for line in file if line.strip()]\n",
    "video_ids = [url.split('v=')[1] for url in youtube_urls]"
   ]
  },
  {
   "cell_type": "code",
   "execution_count": 7,
   "metadata": {},
   "outputs": [],
   "source": [
    "metadata = {}\n",
    "transcript_folder = \"transcripts\"\n",
    "\n",
    "for index, video_id in enumerate(video_ids, start=1):\n",
    "    video_title, published_dt, host = fetch_video_details(video_id)\n",
    "    unique_name = f\"{host}_{index}\"\n",
    "    \n",
    "    # Save metadata\n",
    "    metadata[unique_name] = {\n",
    "        \"video_title\": video_title,\n",
    "        \"published_dt\": published_dt,\n",
    "        \"host\": host\n",
    "    }\n",
    "    \n",
    "    # Fetch and save transcript\n",
    "    transcript = fetch_transcript(video_id)\n",
    "    transcript = transcript.replace(\"\\n\", \"\").replace(\"-\", \" \")\n",
    "    \n",
    "    transcript_filename = os.path.join(transcript_folder, f\"{unique_name}.md\")\n",
    "    save_transcript(transcript, transcript_filename)\n",
    "\n",
    "# Save all metadata to JSON file\n",
    "save_metadata(metadata, os.path.join(transcript_folder, 'video_metadata.json'))"
   ]
  },
  {
   "cell_type": "code",
   "execution_count": null,
   "metadata": {},
   "outputs": [],
   "source": []
  }
 ],
 "metadata": {
  "kernelspec": {
   "display_name": "qa_bot",
   "language": "python",
   "name": "python3"
  },
  "language_info": {
   "codemirror_mode": {
    "name": "ipython",
    "version": 3
   },
   "file_extension": ".py",
   "mimetype": "text/x-python",
   "name": "python",
   "nbconvert_exporter": "python",
   "pygments_lexer": "ipython3",
   "version": "3.9.19"
  }
 },
 "nbformat": 4,
 "nbformat_minor": 2
}
